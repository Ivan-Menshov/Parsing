{
 "cells": [
  {
   "cell_type": "code",
   "execution_count": 1,
   "id": "a865b329",
   "metadata": {},
   "outputs": [],
   "source": [
    "#!pip install requests"
   ]
  },
  {
   "cell_type": "code",
   "execution_count": 2,
   "id": "d2b7e3a6",
   "metadata": {},
   "outputs": [],
   "source": [
    "import requests\n",
    "import json\n",
    "from pprint import pprint"
   ]
  },
  {
   "cell_type": "code",
   "execution_count": 3,
   "id": "2583c62b",
   "metadata": {},
   "outputs": [],
   "source": [
    "user = 'Ivan-Menshov'\n",
    "url = 'https://api.github.com/users/'+user+'/repos'"
   ]
  },
  {
   "cell_type": "code",
   "execution_count": 4,
   "id": "1a66571c",
   "metadata": {},
   "outputs": [
    {
     "name": "stdout",
     "output_type": "stream",
     "text": [
      "200\n",
      "('[{\"id\":487498544,\"node_id\":\"R_kgDOHQ6jMA\",\"name\":\"Ivan-Menshov-Python-Data-Science-Numpy-Matplotlib-Scikit-learn\",\"full_name\":\"Ivan-Menshov/Ivan-Menshov-Python-Data-Science-Numpy-Matplotlib-Scikit-learn\",\"private\":false,\"owner\":{\"login\":\"Ivan-Menshov\",\"id\":93650472,\"node_id\":\"U_kgDOBZT-KA\",\"avatar_url\":\"https://avatars.githubusercontent.com/u/93650472?v=4\",\"gravatar_id\":\"\",\"url\":\"https://api.github.com/users/Ivan-Menshov\",\"html_url\":\"https://github.com/Ivan-Menshov\",\"followers_url\":\"https://api.github.com/users/Ivan-Menshov/followers\",\"following_url\":\"https://api.github.com/users/Ivan-Menshov/following{/other_user}\",\"gists_url\":\"https://api.github.com/users/Ivan-Menshov/gists{/gist_id}\",\"starred_url\":\"https://api.github.com/users/Ivan-Menshov/starred{/owner}{/repo}\",\"subscriptions_url\":\"https://api.github.com/users/Ivan-Menshov/subscriptions\",\"organizations_url\":\"https://api.github.com/users/Ivan-Menshov/orgs\",\"repos_url\":\"https://api.github.com/users/Ivan-Menshov/repos\",\"events_url\":\"https://api.github.com/users/Ivan-Menshov/events{/privacy}\",\"received_events_url\":\"https://api.github.com/users/Ivan-Menshov/received_events\",\"type\":\"User\",\"site_admin\":false},\"html_url\":\"https://github.com/Ivan-Menshov/Ivan-Menshov-Python-Data-Science-Numpy-Matplotlib-Scikit-learn\",\"description\":null,\"fork\":false,\"url\":\"https://api.github.com/repos/Ivan-Menshov/Ivan-Menshov-Python-Data-Science-Numpy-Matplotlib-Scikit-learn\",\"forks_url\":\"https://api.github.com/repos/Ivan-Menshov/Ivan-Menshov-Python-Data-Science-Numpy-Matplotlib-Scikit-learn/forks\",\"keys_url\":\"https://api.github.com/repos/Ivan-Menshov/Ivan-Menshov-Python-Data-Science-Numpy-Matplotlib-Scikit-learn/keys{/key_id}\",\"collaborators_url\":\"https://api.github.com/repos/Ivan-Menshov/Ivan-Menshov-Python-Data-Science-Numpy-Matplotlib-Scikit-learn/collaborators{/collaborator}\",\"teams_url\":\"https://api.github.com/repos/Ivan-Menshov/Ivan-Menshov-Python-Data-Science-Numpy-Matplotlib-Scikit-learn/teams\",\"hooks_url\":\"https://api.github.com/repos/Ivan-Menshov/Ivan-Menshov-Python-Data-Science-Numpy-Matplotlib-Scikit-learn/hooks\",\"issue_events_url\":\"https://api.github.com/repos/Ivan-Menshov/Ivan-Menshov-Python-Data-Science-Numpy-Matplotlib-Scikit-learn/issues/events{/number}\",\"events_url\":\"https://api.github.com/repos/Ivan-Menshov/Ivan-Menshov-Python-Data-Science-Numpy-Matplotlib-Scikit-learn/events\",\"assignees_url\":\"https://api.github.com/repos/Ivan-Menshov/Ivan-Menshov-Python-Data-Science-Numpy-Matplotlib-Scikit-learn/assignees{/user}\",\"branches_url\":\"https://api.github.com/repos/Ivan-Menshov/Ivan-Menshov-Python-Data-Science-Numpy-Matplotlib-Scikit-learn/branches{/branch}\",\"tags_url\":\"https://api.github.com/repos/Ivan-Menshov/Ivan-Menshov-Python-Data-Science-Numpy-Matplotlib-Scikit-learn/tags\",\"blobs_url\":\"https://api.github.com/repos/Ivan-Menshov/Ivan-Menshov-Python-Data-Science-Numpy-Matplotlib-Scikit-learn/git/blobs{/sha}\",\"git_tags_url\":\"https://api.github.com/repos/Ivan-Menshov/Ivan-Menshov-Python-Data-Science-Numpy-Matplotlib-Scikit-learn/git/tags{/sha}\",\"git_refs_url\":\"https://api.github.com/repos/Ivan-Menshov/Ivan-Menshov-Python-Data-Science-Numpy-Matplotlib-Scikit-learn/git/refs{/sha}\",\"trees_url\":\"https://api.github.com/repos/Ivan-Menshov/Ivan-Menshov-Python-Data-Science-Numpy-Matplotlib-Scikit-learn/git/trees{/sha}\",\"statuses_url\":\"https://api.github.com/repos/Ivan-Menshov/Ivan-Menshov-Python-Data-Science-Numpy-Matplotlib-Scikit-learn/statuses/{sha}\",\"languages_url\":\"https://api.github.com/repos/Ivan-Menshov/Ivan-Menshov-Python-Data-Science-Numpy-Matplotlib-Scikit-learn/languages\",\"stargazers_url\":\"https://api.github.com/repos/Ivan-Menshov/Ivan-Menshov-Python-Data-Science-Numpy-Matplotlib-Scikit-learn/stargazers\",\"contributors_url\":\"https://api.github.com/repos/Ivan-Menshov/Ivan-Menshov-Python-Data-Science-Numpy-Matplotlib-Scikit-learn/contributors\",\"subscribers_url\":\"https://api.github.com/repos/Ivan-Menshov/Ivan-Menshov-Python-Data-Science-Numpy-Matplotlib-Scikit-learn/subscribers\",\"subscription_url\":\"https://api.github.com/repos/Ivan-Menshov/Ivan-Menshov-Python-Data-Science-Numpy-Matplotlib-Scikit-learn/subscription\",\"commits_url\":\"https://api.github.com/repos/Ivan-Menshov/Ivan-Menshov-Python-Data-Science-Numpy-Matplotlib-Scikit-learn/commits{/sha}\",\"git_commits_url\":\"https://api.github.com/repos/Ivan-Menshov/Ivan-Menshov-Python-Data-Science-Numpy-Matplotlib-Scikit-learn/git/commits{/sha}\",\"comments_url\":\"https://api.github.com/repos/Ivan-Menshov/Ivan-Menshov-Python-Data-Science-Numpy-Matplotlib-Scikit-learn/comments{/number}\",\"issue_comment_url\":\"https://api.github.com/repos/Ivan-Menshov/Ivan-Menshov-Python-Data-Science-Numpy-Matplotlib-Scikit-learn/issues/comments{/number}\",\"contents_url\":\"https://api.github.com/repos/Ivan-Menshov/Ivan-Menshov-Python-Data-Science-Numpy-Matplotlib-Scikit-learn/contents/{+path}\",\"compare_url\":\"https://api.github.com/repos/Ivan-Menshov/Ivan-Menshov-Python-Data-Science-Numpy-Matplotlib-Scikit-learn/compare/{base}...{head}\",\"merges_url\":\"https://api.github.com/repos/Ivan-Menshov/Ivan-Menshov-Python-Data-Science-Numpy-Matplotlib-Scikit-learn/merges\",\"archive_url\":\"https://api.github.com/repos/Ivan-Menshov/Ivan-Menshov-Python-Data-Science-Numpy-Matplotlib-Scikit-learn/{archive_format}{/ref}\",\"downloads_url\":\"https://api.github.com/repos/Ivan-Menshov/Ivan-Menshov-Python-Data-Science-Numpy-Matplotlib-Scikit-learn/downloads\",\"issues_url\":\"https://api.github.com/repos/Ivan-Menshov/Ivan-Menshov-Python-Data-Science-Numpy-Matplotlib-Scikit-learn/issues{/number}\",\"pulls_url\":\"https://api.github.com/repos/Ivan-Menshov/Ivan-Menshov-Python-Data-Science-Numpy-Matplotlib-Scikit-learn/pulls{/number}\",\"milestones_url\":\"https://api.github.com/repos/Ivan-Menshov/Ivan-Menshov-Python-Data-Science-Numpy-Matplotlib-Scikit-learn/milestones{/number}\",\"notifications_url\":\"https://api.github.com/repos/Ivan-Menshov/Ivan-Menshov-Python-Data-Science-Numpy-Matplotlib-Scikit-learn/notifications{?since,all,participating}\",\"labels_url\":\"https://api.github.com/repos/Ivan-Menshov/Ivan-Menshov-Python-Data-Science-Numpy-Matplotlib-Scikit-learn/labels{/name}\",\"releases_url\":\"https://api.github.com/repos/Ivan-Menshov/Ivan-Menshov-Python-Data-Science-Numpy-Matplotlib-Scikit-learn/releases{/id}\",\"deployments_url\":\"https://api.github.com/repos/Ivan-Menshov/Ivan-Menshov-Python-Data-Science-Numpy-Matplotlib-Scikit-learn/deployments\",\"created_at\":\"2022-05-01T09:44:10Z\",\"updated_at\":\"2022-05-01T09:44:10Z\",\"pushed_at\":\"2022-06-15T07:13:42Z\",\"git_url\":\"git://github.com/Ivan-Menshov/Ivan-Menshov-Python-Data-Science-Numpy-Matplotlib-Scikit-learn.git\",\"ssh_url\":\"git@github.com:Ivan-Menshov/Ivan-Menshov-Python-Data-Science-Numpy-Matplotlib-Scikit-learn.git\",\"clone_url\":\"https://github.com/Ivan-Menshov/Ivan-Menshov-Python-Data-Science-Numpy-Matplotlib-Scikit-learn.git\",\"svn_url\":\"https://github.com/Ivan-Menshov/Ivan-Menshov-Python-Data-Science-Numpy-Matplotlib-Scikit-learn\",\"homepage\":null,\"size\":2852,\"stargazers_count\":0,\"watchers_count\":0,\"language\":null,\"has_issues\":true,\"has_projects\":true,\"has_downloads\":true,\"has_wiki\":true,\"has_pages\":false,\"forks_count\":0,\"mirror_url\":null,\"archived\":false,\"disabled\":false,\"open_issues_count\":6,\"license\":null,\"allow_forking\":true,\"is_template\":false,\"web_commit_signoff_required\":false,\"topics\":[],\"visibility\":\"public\",\"forks\":0,\"open_issues\":6,\"watchers\":0,\"default_branch\":\"main\"},{\"id\":525045825,\"node_id\":\"R_kgDOH0uQQQ\",\"name\":\"move_drone\",\"full_name\":\"Ivan-Menshov/move_drone\",\"private\":false,\"owner\":{\"login\":\"Ivan-Menshov\",\"id\":93650472,\"node_id\":\"U_kgDOBZT-KA\",\"avatar_url\":\"https://avatars.githubusercontent.com/u/93650472?v=4\",\"gravatar_id\":\"\",\"url\":\"https://api.github.com/users/Ivan-Menshov\",\"html_url\":\"https://github.com/Ivan-Menshov\",\"followers_url\":\"https://api.github.com/users/Ivan-Menshov/followers\",\"following_url\":\"https://api.github.com/users/Ivan-Menshov/following{/other_user}\",\"gists_url\":\"https://api.github.com/users/Ivan-Menshov/gists{/gist_id}\",\"starred_url\":\"https://api.github.com/users/Ivan-Menshov/starred{/owner}{/repo}\",\"subscriptions_url\":\"https://api.github.com/users/Ivan-Menshov/subscriptions\",\"organizations_url\":\"https://api.github.com/users/Ivan-Menshov/orgs\",\"repos_url\":\"https://api.github.com/users/Ivan-Menshov/repos\",\"events_url\":\"https://api.github.com/users/Ivan-Menshov/events{/privacy}\",\"received_events_url\":\"https://api.github.com/users/Ivan-Menshov/received_events\",\"type\":\"User\",\"site_admin\":false},\"html_url\":\"https://github.com/Ivan-Menshov/move_drone\",\"description\":null,\"fork\":false,\"url\":\"https://api.github.com/repos/Ivan-Menshov/move_drone\",\"forks_url\":\"https://api.github.com/repos/Ivan-Menshov/move_drone/forks\",\"keys_url\":\"https://api.github.com/repos/Ivan-Menshov/move_drone/keys{/key_id}\",\"collaborators_url\":\"https://api.github.com/repos/Ivan-Menshov/move_drone/collaborators{/collaborator}\",\"teams_url\":\"https://api.github.com/repos/Ivan-Menshov/move_drone/teams\",\"hooks_url\":\"https://api.github.com/repos/Ivan-Menshov/move_drone/hooks\",\"issue_events_url\":\"https://api.github.com/repos/Ivan-Menshov/move_drone/issues/events{/number}\",\"events_url\":\"https://api.github.com/repos/Ivan-Menshov/move_drone/events\",\"assignees_url\":\"https://api.github.com/repos/Ivan-Menshov/move_drone/assignees{/user}\",\"branches_url\":\"https://api.github.com/repos/Ivan-Menshov/move_drone/branches{/branch}\",\"tags_url\":\"https://api.github.com/repos/Ivan-Menshov/move_drone/tags\",\"blobs_url\":\"https://api.github.com/repos/Ivan-Menshov/move_drone/git/blobs{/sha}\",\"git_tags_url\":\"https://api.github.com/repos/Ivan-Menshov/move_drone/git/tags{/sha}\",\"git_refs_url\":\"https://api.github.com/repos/Ivan-Menshov/move_drone/git/refs{/sha}\",\"trees_url\":\"https://api.github.com/repos/Ivan-Menshov/move_drone/git/trees{/sha}\",\"statuses_url\":\"https://api.github.com/repos/Ivan-Menshov/move_drone/statuses/{sha}\",\"languages_url\":\"https://api.github.com/repos/Ivan-Menshov/move_drone/languages\",\"stargazers_url\":\"https://api.github.com/repos/Ivan-Menshov/move_drone/stargazers\",\"contributors_url\":\"https://api.github.com/repos/Ivan-Menshov/move_drone/contributors\",\"subscribers_url\":\"https://api.github.com/repos/Ivan-Menshov/move_drone/subscribers\",\"subscription_url\":\"https://api.github.com/repos/Ivan-Menshov/move_drone/subscription\",\"commits_url\":\"https://api.github.com/repos/Ivan-Menshov/move_drone/commits{/sha}\",\"git_commits_url\":\"https://api.github.com/repos/Ivan-Menshov/move_drone/git/commits{/sha}\",\"comments_url\":\"https://api.github.com/repos/Ivan-Menshov/move_drone/comments{/number}\",\"issue_comment_url\":\"https://api.github.com/repos/Ivan-Menshov/move_drone/issues/comments{/number}\",\"contents_url\":\"https://api.github.com/repos/Ivan-Menshov/move_drone/contents/{+path}\",\"compare_url\":\"https://api.github.com/repos/Ivan-Menshov/move_drone/compare/{base}...{head}\",\"merges_url\":\"https://api.github.com/repos/Ivan-Menshov/move_drone/merges\",\"archive_url\":\"https://api.github.com/repos/Ivan-Menshov/move_drone/{archive_format}{/ref}\",\"downloads_url\":\"https://api.github.com/repos/Ivan-Menshov/move_drone/downloads\",\"issues_url\":\"https://api.github.com/repos/Ivan-Menshov/move_drone/issues{/number}\",\"pulls_url\":\"https://api.github.com/repos/Ivan-Menshov/move_drone/pulls{/number}\",\"milestones_url\":\"https://api.github.com/repos/Ivan-Menshov/move_drone/milestones{/number}\",\"notifications_url\":\"https://api.github.com/repos/Ivan-Menshov/move_drone/notifications{?since,all,participating}\",\"labels_url\":\"https://api.github.com/repos/Ivan-Menshov/move_drone/labels{/name}\",\"releases_url\":\"https://api.github.com/repos/Ivan-Menshov/move_drone/releases{/id}\",\"deployments_url\":\"https://api.github.com/repos/Ivan-Menshov/move_drone/deployments\",\"created_at\":\"2022-08-15T15:46:29Z\",\"updated_at\":\"2022-08-15T16:02:43Z\",\"pushed_at\":\"2022-08-15T16:10:56Z\",\"git_url\":\"git://github.com/Ivan-Menshov/move_drone.git\",\"ssh_url\":\"git@github.com:Ivan-Menshov/move_drone.git\",\"clone_url\":\"https://github.com/Ivan-Menshov/move_drone.git\",\"svn_url\":\"https://github.com/Ivan-Menshov/move_drone\",\"homepage\":null,\"size\":18073,\"stargazers_count\":0,\"watchers_count\":0,\"language\":\"Jupyter '\n",
      " 'Notebook\",\"has_issues\":true,\"has_projects\":true,\"has_downloads\":true,\"has_wiki\":true,\"has_pages\":false,\"forks_count\":0,\"mirror_url\":null,\"archived\":false,\"disabled\":false,\"open_issues_count\":0,\"license\":null,\"allow_forking\":true,\"is_template\":false,\"web_commit_signoff_required\":false,\"topics\":[],\"visibility\":\"public\",\"forks\":0,\"open_issues\":0,\"watchers\":0,\"default_branch\":\"main\"},{\"id\":424179522,\"node_id\":\"R_kgDOGUh3Qg\",\"name\":\"Python_GB\",\"full_name\":\"Ivan-Menshov/Python_GB\",\"private\":false,\"owner\":{\"login\":\"Ivan-Menshov\",\"id\":93650472,\"node_id\":\"U_kgDOBZT-KA\",\"avatar_url\":\"https://avatars.githubusercontent.com/u/93650472?v=4\",\"gravatar_id\":\"\",\"url\":\"https://api.github.com/users/Ivan-Menshov\",\"html_url\":\"https://github.com/Ivan-Menshov\",\"followers_url\":\"https://api.github.com/users/Ivan-Menshov/followers\",\"following_url\":\"https://api.github.com/users/Ivan-Menshov/following{/other_user}\",\"gists_url\":\"https://api.github.com/users/Ivan-Menshov/gists{/gist_id}\",\"starred_url\":\"https://api.github.com/users/Ivan-Menshov/starred{/owner}{/repo}\",\"subscriptions_url\":\"https://api.github.com/users/Ivan-Menshov/subscriptions\",\"organizations_url\":\"https://api.github.com/users/Ivan-Menshov/orgs\",\"repos_url\":\"https://api.github.com/users/Ivan-Menshov/repos\",\"events_url\":\"https://api.github.com/users/Ivan-Menshov/events{/privacy}\",\"received_events_url\":\"https://api.github.com/users/Ivan-Menshov/received_events\",\"type\":\"User\",\"site_admin\":false},\"html_url\":\"https://github.com/Ivan-Menshov/Python_GB\",\"description\":null,\"fork\":false,\"url\":\"https://api.github.com/repos/Ivan-Menshov/Python_GB\",\"forks_url\":\"https://api.github.com/repos/Ivan-Menshov/Python_GB/forks\",\"keys_url\":\"https://api.github.com/repos/Ivan-Menshov/Python_GB/keys{/key_id}\",\"collaborators_url\":\"https://api.github.com/repos/Ivan-Menshov/Python_GB/collaborators{/collaborator}\",\"teams_url\":\"https://api.github.com/repos/Ivan-Menshov/Python_GB/teams\",\"hooks_url\":\"https://api.github.com/repos/Ivan-Menshov/Python_GB/hooks\",\"issue_events_url\":\"https://api.github.com/repos/Ivan-Menshov/Python_GB/issues/events{/number}\",\"events_url\":\"https://api.github.com/repos/Ivan-Menshov/Python_GB/events\",\"assignees_url\":\"https://api.github.com/repos/Ivan-Menshov/Python_GB/assignees{/user}\",\"branches_url\":\"https://api.github.com/repos/Ivan-Menshov/Python_GB/branches{/branch}\",\"tags_url\":\"https://api.github.com/repos/Ivan-Menshov/Python_GB/tags\",\"blobs_url\":\"https://api.github.com/repos/Ivan-Menshov/Python_GB/git/blobs{/sha}\",\"git_tags_url\":\"https://api.github.com/repos/Ivan-Menshov/Python_GB/git/tags{/sha}\",\"git_refs_url\":\"https://api.github.com/repos/Ivan-Menshov/Python_GB/git/refs{/sha}\",\"trees_url\":\"https://api.github.com/repos/Ivan-Menshov/Python_GB/git/trees{/sha}\",\"statuses_url\":\"https://api.github.com/repos/Ivan-Menshov/Python_GB/statuses/{sha}\",\"languages_url\":\"https://api.github.com/repos/Ivan-Menshov/Python_GB/languages\",\"stargazers_url\":\"https://api.github.com/repos/Ivan-Menshov/Python_GB/stargazers\",\"contributors_url\":\"https://api.github.com/repos/Ivan-Menshov/Python_GB/contributors\",\"subscribers_url\":\"https://api.github.com/repos/Ivan-Menshov/Python_GB/subscribers\",\"subscription_url\":\"https://api.github.com/repos/Ivan-Menshov/Python_GB/subscription\",\"commits_url\":\"https://api.github.com/repos/Ivan-Menshov/Python_GB/commits{/sha}\",\"git_commits_url\":\"https://api.github.com/repos/Ivan-Menshov/Python_GB/git/commits{/sha}\",\"comments_url\":\"https://api.github.com/repos/Ivan-Menshov/Python_GB/comments{/number}\",\"issue_comment_url\":\"https://api.github.com/repos/Ivan-Menshov/Python_GB/issues/comments{/number}\",\"contents_url\":\"https://api.github.com/repos/Ivan-Menshov/Python_GB/contents/{+path}\",\"compare_url\":\"https://api.github.com/repos/Ivan-Menshov/Python_GB/compare/{base}...{head}\",\"merges_url\":\"https://api.github.com/repos/Ivan-Menshov/Python_GB/merges\",\"archive_url\":\"https://api.github.com/repos/Ivan-Menshov/Python_GB/{archive_format}{/ref}\",\"downloads_url\":\"https://api.github.com/repos/Ivan-Menshov/Python_GB/downloads\",\"issues_url\":\"https://api.github.com/repos/Ivan-Menshov/Python_GB/issues{/number}\",\"pulls_url\":\"https://api.github.com/repos/Ivan-Menshov/Python_GB/pulls{/number}\",\"milestones_url\":\"https://api.github.com/repos/Ivan-Menshov/Python_GB/milestones{/number}\",\"notifications_url\":\"https://api.github.com/repos/Ivan-Menshov/Python_GB/notifications{?since,all,participating}\",\"labels_url\":\"https://api.github.com/repos/Ivan-Menshov/Python_GB/labels{/name}\",\"releases_url\":\"https://api.github.com/repos/Ivan-Menshov/Python_GB/releases{/id}\",\"deployments_url\":\"https://api.github.com/repos/Ivan-Menshov/Python_GB/deployments\",\"created_at\":\"2021-11-03T10:27:50Z\",\"updated_at\":\"2021-12-09T11:53:44Z\",\"pushed_at\":\"2021-12-09T11:54:01Z\",\"git_url\":\"git://github.com/Ivan-Menshov/Python_GB.git\",\"ssh_url\":\"git@github.com:Ivan-Menshov/Python_GB.git\",\"clone_url\":\"https://github.com/Ivan-Menshov/Python_GB.git\",\"svn_url\":\"https://github.com/Ivan-Menshov/Python_GB\",\"homepage\":null,\"size\":27,\"stargazers_count\":0,\"watchers_count\":0,\"language\":\"Python\",\"has_issues\":true,\"has_projects\":true,\"has_downloads\":true,\"has_wiki\":true,\"has_pages\":false,\"forks_count\":0,\"mirror_url\":null,\"archived\":false,\"disabled\":false,\"open_issues_count\":8,\"license\":null,\"allow_forking\":true,\"is_template\":false,\"web_commit_signoff_required\":false,\"topics\":[],\"visibility\":\"public\",\"forks\":0,\"open_issues\":8,\"watchers\":0,\"default_branch\":\"main\"}]')\n"
     ]
    }
   ],
   "source": [
    "response = requests.get(url)\n",
    "print(response.status_code)\n",
    "pprint(response.text)"
   ]
  },
  {
   "cell_type": "code",
   "execution_count": 5,
   "id": "4c2d5012",
   "metadata": {},
   "outputs": [],
   "source": [
    "resp = response.json()"
   ]
  },
  {
   "cell_type": "code",
   "execution_count": 6,
   "id": "8180a33c",
   "metadata": {},
   "outputs": [
    {
     "data": {
      "text/plain": [
       "['Ivan-Menshov-Python-Data-Science-Numpy-Matplotlib-Scikit-learn',\n",
       " 'move_drone',\n",
       " 'Python_GB']"
      ]
     },
     "execution_count": 6,
     "metadata": {},
     "output_type": "execute_result"
    }
   ],
   "source": [
    "repositor = []\n",
    "for item in resp:\n",
    "    repositor.append(item['name'])\n",
    "repositor"
   ]
  },
  {
   "cell_type": "code",
   "execution_count": 7,
   "id": "45ee4d83",
   "metadata": {},
   "outputs": [],
   "source": [
    "with open('task_1_1.json','w') as f:\n",
    "    json.dump(repositor, f)"
   ]
  },
  {
   "cell_type": "code",
   "execution_count": null,
   "id": "5480646c",
   "metadata": {},
   "outputs": [],
   "source": []
  }
 ],
 "metadata": {
  "kernelspec": {
   "display_name": "Python 3 (ipykernel)",
   "language": "python",
   "name": "python3"
  },
  "language_info": {
   "codemirror_mode": {
    "name": "ipython",
    "version": 3
   },
   "file_extension": ".py",
   "mimetype": "text/x-python",
   "name": "python",
   "nbconvert_exporter": "python",
   "pygments_lexer": "ipython3",
   "version": "3.9.7"
  }
 },
 "nbformat": 4,
 "nbformat_minor": 5
}
